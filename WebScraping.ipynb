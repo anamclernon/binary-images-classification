{
  "nbformat": 4,
  "nbformat_minor": 0,
  "metadata": {
    "colab": {
      "name": "WebScraping.ipynb",
      "provenance": [],
      "mount_file_id": "1NHlM9zYU7FmFJzWqm7RJDu4YhlawOLM4",
      "authorship_tag": "ABX9TyNHyFKq23qMy1Qh8sCoz8Fq",
      "include_colab_link": true
    },
    "kernelspec": {
      "name": "python3",
      "display_name": "Python 3"
    },
    "language_info": {
      "name": "python"
    }
  },
  "cells": [
    {
      "cell_type": "markdown",
      "metadata": {
        "id": "view-in-github",
        "colab_type": "text"
      },
      "source": [
        "<a href=\"https://colab.research.google.com/github/anamclernon/binary-images-classification/blob/main/WebScraping.ipynb\" target=\"_parent\"><img src=\"https://colab.research.google.com/assets/colab-badge.svg\" alt=\"Open In Colab\"/></a>"
      ]
    },
    {
      "cell_type": "code",
      "execution_count": 13,
      "metadata": {
        "id": "anKOcrBZ6zJX"
      },
      "outputs": [],
      "source": [
        "import pandas as pd\n",
        "import numpy as np\n",
        "import requests\n",
        "from bs4 import BeautifulSoup\n",
        "import urllib.request\n"
      ]
    },
    {
      "cell_type": "code",
      "source": [
        "def get_imgs_from_website(URL, file_name):\n",
        "\n",
        "  getURL = requests.get(URL, headers={\"User-Agent\":\"Mozilla/5.0\"})\n",
        "\n",
        "  print(getURL.status_code)\n",
        "\n",
        "  soup = BeautifulSoup(getURL.text, \"html.parser\")\n",
        "\n",
        "  images = soup.find_all(\"img\") #len(images) = 201\n",
        "\n",
        "  imageSources = []\n",
        "\n",
        "  for image in images:\n",
        "    imageSources.append(image.get(\"src\"))\n",
        "\n",
        "  #filter through None in imageSource\n",
        "\n",
        "  imageSources = [image for image in imageSources if image]\n",
        "\n",
        "  count = 1\n",
        "\n",
        "  for image in imageSources:\n",
        "\n",
        "    webs = requests.get(image)\n",
        "\n",
        "    with open(f\"{file_name}/{count}.jpg\", \"wb\") as f:\n",
        "      f.write(webs.content)\n",
        "    \n",
        "    count += 1"
      ],
      "metadata": {
        "id": "2wE3Wk9zAAlQ"
      },
      "execution_count": 45,
      "outputs": []
    },
    {
      "cell_type": "code",
      "source": [
        "URL1 = \"https://www.shutterstock.com/search/cow\"\n",
        "\n",
        "URL2 = \"https://www.shutterstock.com/search/photo-sheep\"\n",
        "\n",
        "file_name2 = \"/content/drive/MyDrive/Dataset/cowsheep/sheep\""
      ],
      "metadata": {
        "id": "E61_MRNtAo7V"
      },
      "execution_count": 47,
      "outputs": []
    },
    {
      "cell_type": "code",
      "source": [
        "get_imgs_from_website(URL2, file_name2)"
      ],
      "metadata": {
        "colab": {
          "base_uri": "https://localhost:8080/"
        },
        "id": "xXr2_56kY-F8",
        "outputId": "7bcd05c2-3725-41e4-98a4-b91096eb5799"
      },
      "execution_count": 48,
      "outputs": [
        {
          "output_type": "stream",
          "name": "stdout",
          "text": [
            "200\n"
          ]
        }
      ]
    },
    {
      "cell_type": "markdown",
      "source": [
        "# New Section"
      ],
      "metadata": {
        "id": "ZSVwxRf8PevJ"
      }
    },
    {
      "cell_type": "code",
      "source": [
        "from google.colab import drive\n",
        "drive.mount('/content/drive')"
      ],
      "metadata": {
        "id": "pw4Xgu-oPh5m"
      },
      "execution_count": null,
      "outputs": []
    },
    {
      "cell_type": "markdown",
      "source": [
        "add the file + concat new filename"
      ],
      "metadata": {
        "id": "gxhy4QBmHS5s"
      }
    }
  ]
}