{
  "nbformat": 4,
  "nbformat_minor": 0,
  "metadata": {
    "colab": {
      "name": "WebScraping.ipynb",
      "provenance": [],
      "mount_file_id": "1NHlM9zYU7FmFJzWqm7RJDu4YhlawOLM4",
      "authorship_tag": "ABX9TyMBsNNfwpjWFagNNL0BDmYm",
      "include_colab_link": true
    },
    "kernelspec": {
      "name": "python3",
      "display_name": "Python 3"
    },
    "language_info": {
      "name": "python"
    }
  },
  "cells": [
    {
      "cell_type": "markdown",
      "metadata": {
        "id": "view-in-github",
        "colab_type": "text"
      },
      "source": [
        "<a href=\"https://colab.research.google.com/github/anamclernon/binary-images-classification/blob/main/WebScraping.ipynb\" target=\"_parent\"><img src=\"https://colab.research.google.com/assets/colab-badge.svg\" alt=\"Open In Colab\"/></a>"
      ]
    },
    {
      "cell_type": "code",
      "execution_count": 5,
      "metadata": {
        "id": "anKOcrBZ6zJX"
      },
      "outputs": [],
      "source": [
        "import pandas as pd\n",
        "import numpy as np\n",
        "import requests\n",
        "from bs4 import BeautifulSoup\n"
      ]
    },
    {
      "cell_type": "code",
      "source": [
        "def get_imgs_from_website(URL, file_name):\n",
        "\n",
        "  global count\n",
        "\n",
        "  getURL = requests.get(URL, headers={\"User-Agent\":\"Mozilla/5.0\"})\n",
        "\n",
        "  print(getURL.status_code)\n",
        "\n",
        "  soup = BeautifulSoup(getURL.text, \"html.parser\")\n",
        "\n",
        "  images = soup.find_all(\"img\") #len(images) = 201\n",
        "\n",
        "  imageSources = []\n",
        "\n",
        "  for image in images:\n",
        "    imageSources.append(image.get(\"src\"))\n",
        "\n",
        "  #filter through None in imageSource\n",
        "\n",
        "  imageSources = [image for image in imageSources if image]\n",
        "\n",
        "  for image in imageSources:\n",
        "\n",
        "    webs = requests.get(image)\n",
        "\n",
        "    with open(f\"{file_name}/{count}.jpg\", \"wb\") as f:\n",
        "      f.write(webs.content)\n",
        "    \n",
        "    count += 1"
      ],
      "metadata": {
        "id": "2wE3Wk9zAAlQ"
      },
      "execution_count": 16,
      "outputs": []
    },
    {
      "cell_type": "code",
      "source": [
        "URL1 = \"https://www.shutterstock.com/search/cow\"\n",
        "\n",
        "file_name1 = \"/content/drive/MyDrive/Dataset/cowsheep/cows\"\n",
        "\n",
        "URL2 = \"https://www.shutterstock.com/search/photo-sheep\"\n",
        "\n",
        "file_name2 = \"/content/drive/MyDrive/Dataset/cowsheep/sheep\""
      ],
      "metadata": {
        "id": "E61_MRNtAo7V"
      },
      "execution_count": 10,
      "outputs": []
    },
    {
      "cell_type": "code",
      "source": [
        "count= 109\n",
        "for i in range(1,11):\n",
        "  get_imgs_from_website(f\"https://www.shutterstock.com/search/cow-photo?page={i}\", file_name1)"
      ],
      "metadata": {
        "colab": {
          "base_uri": "https://localhost:8080/"
        },
        "id": "xXr2_56kY-F8",
        "outputId": "436fc7fa-6ac1-471f-9a40-e7ca63da3377"
      },
      "execution_count": 17,
      "outputs": [
        {
          "output_type": "stream",
          "name": "stdout",
          "text": [
            "200\n",
            "200\n",
            "200\n",
            "200\n",
            "200\n",
            "200\n",
            "200\n",
            "200\n",
            "200\n",
            "200\n"
          ]
        }
      ]
    },
    {
      "cell_type": "code",
      "source": [
        "count = 103\n",
        "for i in range(1,11):\n",
        "  get_imgs_from_website(f\"https://www.shutterstock.com/search/sheep-photo?page={i}\", file_name2)"
      ],
      "metadata": {
        "colab": {
          "base_uri": "https://localhost:8080/"
        },
        "id": "iZ0mTE-VOQ6z",
        "outputId": "cb2dda5f-e97c-42dd-8218-3ea015b52046"
      },
      "execution_count": 18,
      "outputs": [
        {
          "output_type": "stream",
          "name": "stdout",
          "text": [
            "200\n",
            "200\n",
            "200\n",
            "200\n",
            "200\n",
            "200\n",
            "200\n",
            "200\n",
            "200\n",
            "200\n"
          ]
        }
      ]
    }
  ]
}