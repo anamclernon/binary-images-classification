{
  "cells": [
    {
      "cell_type": "markdown",
      "metadata": {
        "id": "view-in-github",
        "colab_type": "text"
      },
      "source": [
        "<a href=\"https://colab.research.google.com/github/anamclernon/binary-images-classification/blob/main/Binary_Image_Classifier.ipynb\" target=\"_parent\"><img src=\"https://colab.research.google.com/assets/colab-badge.svg\" alt=\"Open In Colab\"/></a>"
      ]
    },
    {
      "cell_type": "markdown",
      "metadata": {
        "id": "YRH0I_uxaBnp"
      },
      "source": [
        "Binary Image Classifier"
      ]
    },
    {
      "cell_type": "code",
      "execution_count": null,
      "metadata": {
        "colab": {
          "base_uri": "https://localhost:8080/"
        },
        "id": "phLgcVROaEtZ",
        "outputId": "5a99959a-2599-47b4-fb84-82dd522b9122"
      },
      "outputs": [
        {
          "output_type": "stream",
          "name": "stdout",
          "text": [
            "Colab only includes TensorFlow 2.x; %tensorflow_version has no effect.\n"
          ]
        }
      ],
      "source": [
        "%tensorflow_version 2.x\n",
        "%matplotlib inline \n"
      ]
    },
    {
      "cell_type": "code",
      "execution_count": null,
      "metadata": {
        "id": "q4gfH92gf4Nl"
      },
      "outputs": [],
      "source": [
        "import os\n",
        "from os.path import isfile\n",
        "import numpy as np\n",
        "import pandas as pd\n",
        "import tensorflow as tf\n",
        "from tensorflow.keras import layers\n",
        "from matplotlib import pyplot as plt\n",
        "import imghdr"
      ]
    },
    {
      "cell_type": "code",
      "execution_count": null,
      "metadata": {
        "id": "0cLayMq25bvZ"
      },
      "outputs": [],
      "source": [
        "def load_imgs_from_directory(path_name, class_names, test_split=0.2, validation_split=0.2):\n",
        "  dataset = tf.keras.utils.image_dataset_from_directory(path_name, labels=\"inferred\", batch_size=None,\n",
        "                                            class_names=class_names, image_size=(128, 128))\n",
        "  images_normalized = [batch[0] /255 for batch in dataset]\n",
        "  labels = [batch[1] for batch in dataset]\n",
        "  size = len(labels)\n",
        "  index_split = round(size * test_split)\n",
        "  index_validation_split = size- round(size * validation_split)\n",
        "  test_images = images_normalized[:index_split]\n",
        "  test_labels = labels[:index_split]\n",
        "  val_images = images_normalized[index_validation_split:]\n",
        "  val_labels = labels[index_validation_split:]\n",
        "  tr_images = images_normalized[index_split:index_validation_split]\n",
        "  tr_labels = labels[index_split:index_validation_split]\n",
        "\n",
        "  return np.array(tr_images), np.array(tr_labels), np.array(val_images), np.array(val_labels), np.array(test_images), np.array(test_labels)\n"
      ]
    },
    {
      "cell_type": "code",
      "execution_count": null,
      "metadata": {
        "id": "CWPoqICiC1-s"
      },
      "outputs": [],
      "source": [
        "def create_model(learning_rate, metrics):\n",
        "\n",
        "  model = tf.keras.models.Sequential()\n",
        "\n",
        "  model.add(layers.Conv2D(32, (3, 3), activation='relu', kernel_initializer='he_uniform', padding='same', input_shape=(128, 128, 3)))\n",
        "  model.add(layers.Conv2D(32, (3, 3), activation='relu', kernel_initializer='he_uniform', padding='same'))\n",
        "  model.add(layers.MaxPooling2D((2, 2)))\n",
        "  model.add(layers.Conv2D(64, (3, 3), activation='relu', kernel_initializer='he_uniform', padding='same'))\n",
        "  model.add(layers.Conv2D(64, (3, 3), activation='relu', kernel_initializer='he_uniform', padding='same'))\n",
        "  model.add(layers.MaxPooling2D((2, 2)))\n",
        "  model.add(layers.Conv2D(128, (3, 3), activation='relu', kernel_initializer='he_uniform', padding='same'))\n",
        "  model.add(layers.Conv2D(128, (3, 3), activation='relu', kernel_initializer='he_uniform', padding='same'))\n",
        "  model.add(layers.MaxPooling2D((2, 2)))\n",
        "\n",
        "  model.add(layers.Flatten())\n",
        "  model.add(layers.Dense(units=128, activation=\"relu\"))\n",
        "  model.add(layers.Dense(units=1, activation=\"sigmoid\"))\n",
        "\n",
        "  model.compile(optimizer=tf.keras.optimizers.Adam(learning_rate=learning_rate), loss=\"binary_crossentropy\", metrics=metrics)\n",
        "\n",
        "  return model\n"
      ]
    },
    {
      "cell_type": "code",
      "execution_count": null,
      "metadata": {
        "id": "xIeuuBouqW76"
      },
      "outputs": [],
      "source": [
        "def train_model(model, train_images, train_labels, batch_size, epochs, validation_data):\n",
        "  history = model.fit(x=train_images, y=train_labels, batch_size=batch_size, epochs=epochs, \n",
        "                      validation_data=validation_data, shuffle=True)\n",
        "  \n",
        "  epochs=history.epoch\n",
        "\n",
        "  hist = pd.DataFrame(history.history)\n",
        "\n",
        "  return epochs, hist\n",
        "\n"
      ]
    },
    {
      "cell_type": "code",
      "execution_count": null,
      "metadata": {
        "id": "YeIDCJnvvxD6"
      },
      "outputs": [],
      "source": [
        "def plot_curves(epochs_no, epochs2, hist2, list_metrics):\n",
        "  plt.figure()\n",
        "  plt.xlim([0, epochs_no])\n",
        "  plt.ylim([0,1])\n",
        "  plt.xlabel(\"Epoch\")\n",
        "  plt.ylabel(\"Value\")\n",
        "  for m in list_metrics:\n",
        "    plt.plot(epochs2[1:], hist2[m][1:], label=m)\n",
        "  plt.legend()\n",
        "  plt.show()"
      ]
    },
    {
      "cell_type": "code",
      "execution_count": null,
      "metadata": {
        "id": "z4jFZ8FDPTI3"
      },
      "outputs": [],
      "source": [
        "path_name = \"/content/drive/MyDrive/Dataset/cowsheep/cowswaterfall\"\n",
        "class_names = [\"cows\", \"waterfalls\"]"
      ]
    },
    {
      "cell_type": "code",
      "execution_count": null,
      "metadata": {
        "colab": {
          "base_uri": "https://localhost:8080/"
        },
        "id": "jwKwVSX6f6CI",
        "outputId": "fa111b06-95ca-4cb9-e929-ec393c5c0947"
      },
      "outputs": [
        {
          "output_type": "stream",
          "name": "stdout",
          "text": [
            "Found 11538 files belonging to 2 classes.\n"
          ]
        }
      ],
      "source": [
        "tr_images, tr_labels, val_images, val_labels, test_images, test_labels = load_imgs_from_directory(path_name, class_names, test_split=0.2)"
      ]
    },
    {
      "cell_type": "code",
      "source": [
        "sum(tr_labels)/len(tr_labels)"
      ],
      "metadata": {
        "id": "0lnm2Ry9Ba7F"
      },
      "execution_count": null,
      "outputs": []
    },
    {
      "cell_type": "code",
      "source": [
        "from matplotlib import pyplot as plt\n",
        "plt.imshow(tr_images[69], interpolation='nearest')\n",
        "plt.show()"
      ],
      "metadata": {
        "id": "nnYU7B_GIj-o"
      },
      "execution_count": null,
      "outputs": []
    },
    {
      "cell_type": "code",
      "execution_count": null,
      "metadata": {
        "id": "m037usKom5jj"
      },
      "outputs": [],
      "source": [
        "batch_size = 32\n",
        "validation_split=0.2\n",
        "learning_rate=0.1\n",
        "epochs=200\n",
        "list_metrics = [tf.keras.metrics.BinaryAccuracy(name=\"bin_acc\")]\n",
        "\n",
        "my_model = create_model(learning_rate, list_metrics)"
      ]
    },
    {
      "cell_type": "code",
      "execution_count": null,
      "metadata": {
        "id": "fp8loyJJ2Zal"
      },
      "outputs": [],
      "source": [
        "epochs2, hist2 = train_model(my_model, tr_images, tr_labels, batch_size, epochs, validation_data=(val_images, val_labels))\n"
      ]
    },
    {
      "cell_type": "code",
      "execution_count": null,
      "metadata": {
        "id": "6CfjePaJzDCa"
      },
      "outputs": [],
      "source": [
        "plot_curves(epochs, epochs2, hist2, [\"bin_acc\", \"val_bin_acc\"])"
      ]
    },
    {
      "cell_type": "code",
      "execution_count": null,
      "metadata": {
        "id": "wPwShanfBm4s"
      },
      "outputs": [],
      "source": [
        "my_model.evaluate(x=test_images, y=test_labels, batch_size=16)"
      ]
    }
  ],
  "metadata": {
    "accelerator": "GPU",
    "colab": {
      "collapsed_sections": [],
      "name": "Binary Image Classifier.ipynb",
      "provenance": [],
      "mount_file_id": "1r1zgzZbPFVguwP0V-9JBWvY8OL9ceX_I",
      "authorship_tag": "ABX9TyNy97k9z6vlLCMHu/Px6Rpk",
      "include_colab_link": true
    },
    "gpuClass": "standard",
    "kernelspec": {
      "display_name": "Python 3",
      "name": "python3"
    },
    "language_info": {
      "name": "python"
    }
  },
  "nbformat": 4,
  "nbformat_minor": 0
}